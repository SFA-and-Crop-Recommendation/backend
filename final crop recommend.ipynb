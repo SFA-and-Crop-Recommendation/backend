{
 "cells": [
  {
   "cell_type": "code",
   "execution_count": null,
   "id": "12252e6e-0719-456e-b5ca-879d3fc78857",
   "metadata": {},
   "outputs": [],
   "source": [
    "import pandas as pd\n",
    "import numpy as np\n",
    "import pickle\n",
    "\n",
    "from sklearn.model_selection import train_test_split\n",
    "from sklearn.preprocessing import StandardScaler, LabelEncoder\n",
    "from sklearn.metrics import accuracy_score, classification_report, confusion_matrix\n",
    "from xgboost import XGBClassifier\n",
    "import matplotlib.pyplot as plt\n",
    "import seaborn as sns"
   ]
  },
  {
   "cell_type": "code",
   "execution_count": null,
   "id": "e772eff9-e059-4c1a-bacc-793575d533f1",
   "metadata": {},
   "outputs": [],
   "source": [
    "# Load Dataset\n",
    "df = pd.read_csv('cropbynpk.csv')\n",
    "df.head()"
   ]
  },
  {
   "cell_type": "code",
   "execution_count": null,
   "id": "e800d26d-de24-4f13-af08-7b17b8f9a989",
   "metadata": {},
   "outputs": [],
   "source": [
    "# Define Features and Target\n",
    "feature_columns = ['N', 'P', 'K', 'Temperature', 'Humidity', 'Ph', 'Rain']\n",
    "label_column = 'Crop'"
   ]
  },
  {
   "cell_type": "code",
   "execution_count": null,
   "id": "1fe26997-e2b7-474b-b765-9813c013fdfd",
   "metadata": {},
   "outputs": [],
   "source": [
    "# Split into Train and Test\n",
    "X = df[feature_columns]\n",
    "y = df[label_column]\n",
    "\n",
    "X_train, X_test, y_train, y_test = train_test_split(\n",
    "    X, y, test_size=0.2, random_state=42, stratify=y\n",
    ")"
   ]
  },
  {
   "cell_type": "code",
   "execution_count": null,
   "id": "803dc979-e609-4e77-869c-52ead85c927e",
   "metadata": {},
   "outputs": [],
   "source": [
    "# Preprocessing: Scaling and Label Encoding\n",
    "scaler = StandardScaler()\n",
    "le = LabelEncoder()\n",
    "\n",
    "X_train_scaled = scaler.fit_transform(X_train)\n",
    "X_test_scaled = scaler.transform(X_test)\n",
    "\n",
    "y_train_encoded = le.fit_transform(y_train)\n",
    "y_test_encoded = le.transform(y_test)"
   ]
  },
  {
   "cell_type": "code",
   "execution_count": null,
   "id": "ac103a0a-4846-4e7a-a833-f1fe23ee21cc",
   "metadata": {},
   "outputs": [],
   "source": [
    "# Train XGBoost Classifier\n",
    "model = XGBClassifier(use_label_encoder=False, eval_metric='mlogloss')\n",
    "model.fit(X_train_scaled, y_train_encoded)\n"
   ]
  },
  {
   "cell_type": "code",
   "execution_count": null,
   "id": "e55d9d15-f1bc-49dd-94a1-46b1609fe1f3",
   "metadata": {},
   "outputs": [],
   "source": [
    "y_pred_encoded = model.predict(X_test_scaled)\n",
    "y_pred_labels = le.inverse_transform(y_pred_encoded)"
   ]
  },
  {
   "cell_type": "code",
   "execution_count": null,
   "id": "16de3b11-7888-4e22-9080-91fb9e14e610",
   "metadata": {},
   "outputs": [],
   "source": [
    "# Evaluation Metrics\n",
    "acc = accuracy_score(y_test, y_pred_labels)\n",
    "print(f\"Accuracy: {acc:.4f}\")\n",
    "\n",
    "print(\"\\nClassification Report:\")\n",
    "print(classification_report(y_test, y_pred_labels))\n",
    "\n",
    "cm = confusion_matrix(y_test, y_pred_labels)"
   ]
  },
  {
   "cell_type": "code",
   "execution_count": null,
   "id": "867dd7cf-43a0-4a83-9d81-e33cb229671c",
   "metadata": {},
   "outputs": [],
   "source": [
    "plt.figure(figsize=(12, 8))\n",
    "sns.heatmap(cm, annot=True, fmt='d', cmap='Blues',\n",
    "            xticklabels=le.classes_,\n",
    "            yticklabels=le.classes_)\n",
    "plt.xlabel('Predicted')\n",
    "plt.ylabel('True')\n",
    "plt.title('Confusion Matrix')\n",
    "plt.show()"
   ]
  },
  {
   "cell_type": "code",
   "execution_count": null,
   "id": "bae4f7e0-0a3a-4754-8eb2-50c86d4bfef6",
   "metadata": {},
   "outputs": [],
   "source": [
    "# Save Full Pipeline (Model + Scaler + Label Encoder)\n",
    "model_pipeline = {\n",
    "    'model': model,\n",
    "    'scaler': scaler,\n",
    "    'label_encoder': le,\n",
    "    'feature_columns': feature_columns\n",
    "}\n",
    "\n",
    "with open(r'crop_recommendation_model.pkl', 'wb') as f:\n",
    "    pickle.dump(model_pipeline, f)\n",
    "\n",
    "print(\"\\u2705 Full model pipeline saved!\")"
   ]
  },
  {
   "cell_type": "code",
   "execution_count": null,
   "id": "da4707c7-8cb4-48d4-882d-1073764aaf3f",
   "metadata": {},
   "outputs": [],
   "source": [
    "new_sample = [90, 42, 43, 20.87, 82.00, 6.5, 200.0]  # Example input\n",
    "new_sample_df = pd.DataFrame([new_sample], columns=feature_columns)\n",
    "new_sample_scaled = scaler.transform(new_sample_df)\n",
    "\n",
    "# Predict probabilities\n",
    "pred_proba = model.predict_proba(new_sample_scaled)\n",
    "\n",
    "# Recommend Top 5 Crops\n",
    "top_5_indices = np.argsort(pred_proba[0])[::-1][:5]\n",
    "top_5_crops = label_encoder.inverse_transform(top_5_indices)\n",
    "\n",
    "print(\"Top 5 Recommended Crops:\")\n",
    "for i, crop in enumerate(top_5_crops, 1):\n",
    "    print(f\"{i}. {crop}\")"
   ]
  },
  {
   "cell_type": "code",
   "execution_count": null,
   "id": "503eef67-8c21-4afc-a4e6-29c129ad0a73",
   "metadata": {},
   "outputs": [],
   "source": []
  }
 ],
 "metadata": {
  "kernelspec": {
   "display_name": "myenv310",
   "language": "python",
   "name": "python3"
  },
  "language_info": {
   "codemirror_mode": {
    "name": "ipython",
    "version": 3
   },
   "file_extension": ".py",
   "mimetype": "text/x-python",
   "name": "python",
   "nbconvert_exporter": "python",
   "pygments_lexer": "ipython3",
   "version": "3.10.16"
  }
 },
 "nbformat": 4,
 "nbformat_minor": 5
}
