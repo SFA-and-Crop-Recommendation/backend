{
 "cells": [
  {
   "cell_type": "code",
   "execution_count": 7,
   "id": "ed7477d5-0f7f-4733-977c-94557060bd81",
   "metadata": {},
   "outputs": [],
   "source": [
    "import pandas as pd\n",
    "import numpy as np\n",
    "from tensorflow.keras.models import load_model\n",
    "import joblib\n",
    "import os\n",
    "import warnings\n",
    "\n",
    "def predict_next_6_months(commodity, market, df):\n",
    "    \"\"\"\n",
    "    Predict next 6 months of Modal Price using pretrained LSTM model.\n",
    "\n",
    "    Args:\n",
    "        commodity (str): Commodity name (e.g., 'Apple')\n",
    "        market (str): Market name (e.g., 'Mechua')\n",
    "        df (pd.DataFrame): Full historical dataset\n",
    "\n",
    "    Returns:\n",
    "        dict: {date (str): forecasted price (float)}\n",
    "    \"\"\"\n",
    "    try:\n",
    "        model_path = f\"lstm_models/lstm_{commodity}_{market}.h5\"\n",
    "        scaler_path = f\"scalers/scaler_{commodity}_{market}.pkl\"\n",
    "\n",
    "        if not os.path.exists(model_path) or not os.path.exists(scaler_path):\n",
    "            raise FileNotFoundError(f\"Model or scaler for {commodity}-{market} not found.\")\n",
    "\n",
    "        # Load model and scaler\n",
    "        model = load_model(model_path, compile=False)\n",
    "        scaler = joblib.load(scaler_path)\n",
    "\n",
    "        # Preprocess\n",
    "        data = df[(df['Commodity'] == commodity) & (df['Market'] == market)][['Arrival_Date', 'Modal_Price']].copy()\n",
    "        data['Arrival_Date'] = pd.to_datetime(data['Arrival_Date'], dayfirst=True, errors='coerce')\n",
    "        data.dropna(subset=['Arrival_Date', 'Modal_Price'], inplace=True)\n",
    "        data.set_index('Arrival_Date', inplace=True)\n",
    "        data.index = pd.DatetimeIndex(data.index)\n",
    "        monthly = data.resample(\"ME\").mean().dropna()\n",
    "\n",
    "        if len(monthly) < 12:\n",
    "            raise ValueError(f\"Not enough historical data for {commodity} - {market}.\")\n",
    "\n",
    "        # Use last 12 months\n",
    "        last_12 = monthly[-12:].values\n",
    "\n",
    "        # Suppress warning\n",
    "        with warnings.catch_warnings():\n",
    "            warnings.simplefilter(\"ignore\", category=UserWarning)\n",
    "            last_12_scaled = scaler.transform(last_12)\n",
    "\n",
    "        last_seq = last_12_scaled.reshape(1, 12, 1)\n",
    "\n",
    "        # Predict next 6 months\n",
    "        forecast_scaled = model.predict(last_seq, verbose=0)[0]\n",
    "        forecast = scaler.inverse_transform(forecast_scaled.reshape(-1, 1)).flatten()\n",
    "\n",
    "        # Build date keys\n",
    "        last_date = monthly.index[-1]\n",
    "        future_dates = pd.date_range(start=last_date + pd.DateOffset(months=1), periods=6, freq=\"ME\")\n",
    "        forecast_dict = {date.strftime(\"%Y-%m-%d\"): round(price, 2) for date, price in zip(future_dates, forecast)}\n",
    "\n",
    "        return forecast_dict\n",
    "\n",
    "    except Exception as e:\n",
    "        print(f\"❌ Error in prediction for {commodity}-{market}: {e}\")\n",
    "        return None\n"
   ]
  },
  {
   "cell_type": "code",
   "execution_count": 11,
   "id": "e3e2aadf-44f7-4567-9a61-73e5a44ac6d6",
   "metadata": {},
   "outputs": [
    {
     "name": "stdout",
     "output_type": "stream",
     "text": [
      "2023-08-31: ₹3037.469970703125\n",
      "2023-09-30: ₹3034.760009765625\n",
      "2023-10-31: ₹3021.14990234375\n",
      "2023-11-30: ₹3034.659912109375\n",
      "2023-12-31: ₹3157.68994140625\n",
      "2024-01-31: ₹3062.77001953125\n"
     ]
    }
   ],
   "source": [
    "df = pd.read_csv(\"crop_prices.csv\")\n",
    "forecast = predict_next_6_months(\"Rice\", \"Sealdah Koley Market\", df)\n",
    "\n",
    "if forecast:\n",
    "    for date, price in forecast.items():\n",
    "        print(f\"{date}: ₹{price}\")\n",
    "\n"
   ]
  },
  {
   "cell_type": "code",
   "execution_count": null,
   "id": "3b500173-f973-4182-b3af-a6c3b4b059b1",
   "metadata": {},
   "outputs": [],
   "source": []
  }
 ],
 "metadata": {
  "kernelspec": {
   "display_name": "Python 3 (ipykernel)",
   "language": "python",
   "name": "python3"
  },
  "language_info": {
   "codemirror_mode": {
    "name": "ipython",
    "version": 3
   },
   "file_extension": ".py",
   "mimetype": "text/x-python",
   "name": "python",
   "nbconvert_exporter": "python",
   "pygments_lexer": "ipython3",
   "version": "3.10.0"
  }
 },
 "nbformat": 4,
 "nbformat_minor": 5
}
