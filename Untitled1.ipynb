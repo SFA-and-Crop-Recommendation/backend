{
 "cells": [
  {
   "cell_type": "code",
   "execution_count": 1,
   "id": "02255d2c-7c91-48f0-ae40-65f6b0eeb2e8",
   "metadata": {},
   "outputs": [],
   "source": [
    "from predict_price import recommend_and_predict_prices\n"
   ]
  },
  {
   "cell_type": "code",
   "execution_count": 2,
   "id": "44175a8c-2453-4f12-b90c-2490f784b364",
   "metadata": {},
   "outputs": [
    {
     "name": "stdout",
     "output_type": "stream",
     "text": [
      "{'success': True, 'predictions': [{'crop': 'rice', 'price': 4031.025390625}, {'crop': 'jute', 'price': 0.0}, {'crop': 'coffee', 'price': 0.0}, {'crop': 'banana', 'price': 3185.618896484375}, {'crop': 'muskmelon', 'price': 0.0}], 'debug': [\"Could not predict for jute: No records found for jute with parameters {'filters[State]': 'West Bengal', 'filters[District]': 'Kolkata'}.\", \"Could not predict for coffee: No records found for coffee with parameters {'filters[State]': 'West Bengal', 'filters[District]': 'Kolkata'}.\", \"Could not predict for muskmelon: No records found for muskmelon with parameters {'filters[State]': 'West Bengal', 'filters[District]': 'Kolkata'}.\"], 'input_params': {'test_params': [90, 42, 43, 20.87, 82.0, 6.5, 200.0], 'filters': {'filters[State]': 'West Bengal', 'filters[District]': 'Kolkata'}}}\n"
     ]
    }
   ],
   "source": [
    "test_params = [90, 42, 43, 20.87, 82.00, 6.5, 200.0]  # Your soil and weather test sample\n",
    "# [N,P,K,Temperature,Humidity,Ph,Rain]\n",
    "params = {\n",
    "        \"filters[State]\": \"West Bengal\",\n",
    "        \"filters[District]\": \"Kolkata\"\n",
    "    }\n",
    "predicted_prices = recommend_and_predict_prices(test_params,params)\n",
    "\n",
    "print(predicted_prices)\n",
    "# print(\"\\nFinal Predicted Prices for Top Crops:\")\n",
    "# for crop, price in predicted_prices.items():\n",
    "#     print(f\"{crop}: {price:.2f} INR\")\n"
   ]
  },
  {
   "cell_type": "code",
   "execution_count": null,
   "id": "acdab76e-f110-48f5-8dc2-292264f62585",
   "metadata": {},
   "outputs": [],
   "source": []
  }
 ],
 "metadata": {
  "kernelspec": {
   "display_name": "myenv310",
   "language": "python",
   "name": "python3"
  },
  "language_info": {
   "codemirror_mode": {
    "name": "ipython",
    "version": 3
   },
   "file_extension": ".py",
   "mimetype": "text/x-python",
   "name": "python",
   "nbconvert_exporter": "python",
   "pygments_lexer": "ipython3",
   "version": "3.10.8"
  }
 },
 "nbformat": 4,
 "nbformat_minor": 5
}
