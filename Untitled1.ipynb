{
 "cells": [
  {
   "cell_type": "code",
   "execution_count": 1,
   "id": "02255d2c-7c91-48f0-ae40-65f6b0eeb2e8",
   "metadata": {},
   "outputs": [],
   "source": [
    "from predict_price import recommend_and_predict_prices\n"
   ]
  },
  {
   "cell_type": "code",
   "execution_count": 2,
   "id": "44175a8c-2453-4f12-b90c-2490f784b364",
   "metadata": {},
   "outputs": [
    {
     "name": "stdout",
     "output_type": "stream",
     "text": [
      "Saved 724 records to commodity_data.csv\n",
      "⚠️ Could not predict for jute: No records found for jute with parameters {'filters[State]': 'West Bengal', 'filters[District]': 'Kolkata'}.\n",
      "⚠️ Could not predict for coffee: No records found for coffee with parameters {'filters[State]': 'West Bengal', 'filters[District]': 'Kolkata'}.\n",
      "Saved 1080 records to commodity_data.csv\n",
      "⚠️ Could not predict for muskmelon: No records found for muskmelon with parameters {'filters[State]': 'West Bengal', 'filters[District]': 'Kolkata'}.\n",
      "\n",
      "Final Predicted Prices for Top Crops:\n",
      "rice: 3302.30 INR\n",
      "jute: 0.00 INR\n",
      "coffee: 0.00 INR\n",
      "banana: 2652.11 INR\n",
      "muskmelon: 0.00 INR\n"
     ]
    }
   ],
   "source": [
    "test_params = [90, 42, 43, 20.87, 82.00, 6.5, 200.0]  # Your soil and weather test sample\n",
    "# [N,P,K,Temperature,Humidity,Ph,Rain]\n",
    "params = {\n",
    "        \"filters[State]\": \"West Bengal\",\n",
    "        \"filters[District]\": \"Kolkata\"\n",
    "    }\n",
    "predicted_prices = recommend_and_predict_prices(test_params,params)\n",
    "\n",
    "print(\"\\nFinal Predicted Prices for Top Crops:\")\n",
    "for crop, price in predicted_prices.items():\n",
    "    print(f\"{crop}: {price:.2f} INR\")\n"
   ]
  },
  {
   "cell_type": "code",
   "execution_count": null,
   "id": "acdab76e-f110-48f5-8dc2-292264f62585",
   "metadata": {},
   "outputs": [],
   "source": []
  }
 ],
 "metadata": {
  "kernelspec": {
   "display_name": "Python 3 (ipykernel)",
   "language": "python",
   "name": "python3"
  },
  "language_info": {
   "codemirror_mode": {
    "name": "ipython",
    "version": 3
   },
   "file_extension": ".py",
   "mimetype": "text/x-python",
   "name": "python",
   "nbconvert_exporter": "python",
   "pygments_lexer": "ipython3",
   "version": "3.10.0"
  }
 },
 "nbformat": 4,
 "nbformat_minor": 5
}
