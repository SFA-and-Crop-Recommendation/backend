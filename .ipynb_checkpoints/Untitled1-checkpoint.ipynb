{
 "cells": [
  {
   "cell_type": "code",
   "execution_count": 1,
   "id": "02255d2c-7c91-48f0-ae40-65f6b0eeb2e8",
   "metadata": {},
   "outputs": [],
   "source": [
    "from predict_price import recommend_and_predict_prices\n"
   ]
  },
  {
   "cell_type": "code",
   "execution_count": 2,
   "id": "44175a8c-2453-4f12-b90c-2490f784b364",
   "metadata": {},
   "outputs": [
    {
     "name": "stdout",
     "output_type": "stream",
     "text": [
      "\n",
      "Final Predicted Prices for Top Crops:\n",
      "rice: 4388.11 INR\n",
      "jute: 0.00 INR\n",
      "coffee: 0.00 INR\n",
      "banana: 1719.94 INR\n",
      "muskmelon: 0.00 INR\n"
     ]
    }
   ],
   "source": [
    "test_params = [90, 42, 43, 20.87, 82.00, 6.5, 200.0]  # Your soil and weather test sample\n",
    "# [N,P,K,Temperature,Humidity,Ph,Rain]\n",
    "params = {\n",
    "        \"filters[State]\": \"West Bengal\",\n",
    "        \"filters[District]\": \"Kolkata\"\n",
    "    }\n",
    "predicted_prices = recommend_and_predict_prices(test_params,params)\n",
    "\n",
    "print(\"\\nFinal Predicted Prices for Top Crops:\")\n",
    "for crop, price in predicted_prices.items():\n",
    "    print(f\"{crop}: {price:.2f} INR\")\n"
   ]
  },
  {
   "cell_type": "code",
   "execution_count": 13,
   "id": "acdab76e-f110-48f5-8dc2-292264f62585",
   "metadata": {},
   "outputs": [],
   "source": [
    "from train_model import fetch_and_save_commodity_data,train_and_predict_from_csv_map\n",
    "import matplotlib.pyplot as plt\n",
    "import seaborn as sns"
   ]
  },
  {
   "cell_type": "code",
   "execution_count": 15,
   "id": "92eef3e5-a2f2-4682-a397-e9eff58dde7f",
   "metadata": {},
   "outputs": [
    {
     "name": "stderr",
     "output_type": "stream",
     "text": [
      "C:\\Users\\Nejarul\\AppData\\Local\\Programs\\Python\\Python310\\lib\\site-packages\\keras\\src\\layers\\rnn\\rnn.py:200: UserWarning: Do not pass an `input_shape`/`input_dim` argument to a layer. When using Sequential models, prefer using an `Input(shape)` object as the first layer in the model instead.\n",
      "  super().__init__(**kwargs)\n"
     ]
    },
    {
     "name": "stdout",
     "output_type": "stream",
     "text": [
      "\u001b[1m23/23\u001b[0m \u001b[32m━━━━━━━━━━━━━━━━━━━━\u001b[0m\u001b[37m\u001b[0m \u001b[1m2s\u001b[0m 47ms/step\n"
     ]
    },
    {
     "ename": "NameError",
     "evalue": "name 'df' is not defined",
     "output_type": "error",
     "traceback": [
      "\u001b[1;31m---------------------------------------------------------------------------\u001b[0m",
      "\u001b[1;31mNameError\u001b[0m                                 Traceback (most recent call last)",
      "Cell \u001b[1;32mIn[15], line 19\u001b[0m\n\u001b[0;32m     17\u001b[0m \u001b[38;5;28;01mtry\u001b[39;00m:\n\u001b[0;32m     18\u001b[0m     model, scaler, (dates, actual_prices, predicted_prices) \u001b[38;5;241m=\u001b[39m train_and_predict_from_csv_map(filename)\n\u001b[1;32m---> 19\u001b[0m     df_melted \u001b[38;5;241m=\u001b[39m \u001b[43mdf\u001b[49m\u001b[38;5;241m.\u001b[39mmelt(\u001b[38;5;124m'\u001b[39m\u001b[38;5;124mDate\u001b[39m\u001b[38;5;124m'\u001b[39m, var_name\u001b[38;5;241m=\u001b[39m\u001b[38;5;124m'\u001b[39m\u001b[38;5;124mType\u001b[39m\u001b[38;5;124m'\u001b[39m, value_name\u001b[38;5;241m=\u001b[39m\u001b[38;5;124m'\u001b[39m\u001b[38;5;124mPrice\u001b[39m\u001b[38;5;124m'\u001b[39m)\n\u001b[0;32m     20\u001b[0m     \u001b[38;5;66;03m# Plotting\u001b[39;00m\n\u001b[0;32m     21\u001b[0m     plt\u001b[38;5;241m.\u001b[39mfigure(figsize\u001b[38;5;241m=\u001b[39m(\u001b[38;5;241m12\u001b[39m,\u001b[38;5;241m6\u001b[39m))\n",
      "\u001b[1;31mNameError\u001b[0m: name 'df' is not defined"
     ]
    }
   ],
   "source": [
    "commodity_name = \"Rice\" #Here add crop name\n",
    "\n",
    "# Parameters for the commodity (example: West Bengal, Kolkata)\n",
    "State=\"West Bengal\"\n",
    "District=\"Kolkata\"\n",
    "params = {\n",
    "    \"filters[State]\":State ,\n",
    "    \"filters[District]\":District \n",
    "}\n",
    "\n",
    "filename = \"commodity_data.csv\"\n",
    "\n",
    "# Step 2: Fetch and save commodity data using the `fetch_and_save_commodity_data` function\n",
    "fetch_and_save_commodity_data(params, commodity_name, filename)\n",
    "\n",
    "# Step 3: Train the model and make a prediction\n",
    "try:\n",
    "    model, scaler, (dates, actual_prices, predicted_prices) = train_and_predict_from_csv_map(filename)\n",
    "    \n",
    "    # Plotting\n",
    "    plt.figure(figsize=(12,6))\n",
    "    plt.plot(dates, actual_prices, label='Actual Prices', marker='o')\n",
    "    plt.plot(dates, predicted_prices, label='Predicted Prices', marker='x')\n",
    "    plt.title(f'{commodity_name} Price Prediction for {District}, {State}')\n",
    "    plt.xlabel('Date')\n",
    "    plt.ylabel('Modal_Price')\n",
    "    plt.legend()\n",
    "    plt.grid(True)\n",
    "    plt.xticks(rotation=45)\n",
    "    plt.tight_layout()\n",
    "    plt.show()\n",
    "    predicted_price=predicted_prices[-1]\n",
    "    print(f\"Predicted Price for {commodity_name} after 6 months: {predicted_prices[-1]:.2f} INR\")\n",
    "except ValueError as e:\n",
    "    print(e)\n",
    "    exit()\n"
   ]
  },
  {
   "cell_type": "code",
   "execution_count": 12,
   "id": "9fb77875-0dfd-4a6f-ab09-90501641116d",
   "metadata": {},
   "outputs": [
    {
     "data": {
      "text/plain": [
       "np.float32(3289.1511)"
      ]
     },
     "execution_count": 12,
     "metadata": {},
     "output_type": "execute_result"
    }
   ],
   "source": [
    "predicted_price"
   ]
  },
  {
   "cell_type": "code",
   "execution_count": null,
   "id": "a7b87b7d-fee3-4c3a-82a8-33a68c1ab163",
   "metadata": {},
   "outputs": [],
   "source": []
  }
 ],
 "metadata": {
  "kernelspec": {
   "display_name": "Python 3 (ipykernel)",
   "language": "python",
   "name": "python3"
  },
  "language_info": {
   "codemirror_mode": {
    "name": "ipython",
    "version": 3
   },
   "file_extension": ".py",
   "mimetype": "text/x-python",
   "name": "python",
   "nbconvert_exporter": "python",
   "pygments_lexer": "ipython3",
   "version": "3.10.0"
  }
 },
 "nbformat": 4,
 "nbformat_minor": 5
}
