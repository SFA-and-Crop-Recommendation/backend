{
 "cells": [
  {
   "cell_type": "code",
   "execution_count": 14,
   "id": "4f71dc52-06b8-4be9-9eb0-7c675ccfccd3",
   "metadata": {},
   "outputs": [
    {
     "name": "stdout",
     "output_type": "stream",
     "text": [
      "Top 5 Recommended Crops:\n",
      "1. rice\n",
      "2. jute\n",
      "3. coffee\n",
      "4. banana\n",
      "5. muskmelon\n",
      "\n",
      "Recommended crops list: ['rice', 'jute', 'coffee', 'banana', 'muskmelon']\n"
     ]
    }
   ],
   "source": [
    "import pandas as pd\n",
    "import numpy as np\n",
    "import pickle\n",
    "\n",
    "from sklearn.model_selection import train_test_split\n",
    "from sklearn.preprocessing import StandardScaler, LabelEncoder\n",
    "from sklearn.metrics import accuracy_score, classification_report, confusion_matrix\n",
    "from xgboost import XGBClassifier\n",
    "import matplotlib.pyplot as plt\n",
    "import seaborn as sns\n",
    "with open(r'C:\\\\Users\\\\Nejarul\\\\Desktop\\\\Project Dataset\\\\crop_recommendation_model.pkl', 'rb') as f:\n",
    "    model_pipeline = pickle.load(f)\n",
    "\n",
    "model = model_pipeline['model']\n",
    "scaler = model_pipeline['scaler']\n",
    "label_encoder = model_pipeline['label_encoder']\n",
    "feature_columns = model_pipeline['feature_columns']\n",
    "\n",
    "# Recommend Top 5 Crops\n",
    "new_sample = [90, 42, 43, 20.87, 82.00, 6.5, 200.0]  # Example input\n",
    "new_sample_df = pd.DataFrame([new_sample], columns=feature_columns)\n",
    "new_sample_scaled = scaler.transform(new_sample_df)\n",
    "\n",
    "# Predict probabilities\n",
    "pred_proba = model.predict_proba(new_sample_scaled)\n",
    "\n",
    "# Recommend Top 5 Crops\n",
    "top_5_indices = np.argsort(pred_proba[0])[::-1][:5]\n",
    "top_5_crops = label_encoder.inverse_transform(top_5_indices)\n",
    "\n",
    "print(\"Top 5 Recommended Crops:\")\n",
    "recommended_crops = []\n",
    "\n",
    "for i, crop in enumerate(top_5_crops, 1):\n",
    "    print(f\"{i}. {crop}\")\n",
    "    recommended_crops.append(crop)\n",
    "\n",
    "# If you want to see the list of recommended crops after\n",
    "print(\"\\nRecommended crops list:\", recommended_crops)\n"
   ]
  },
  {
   "cell_type": "code",
   "execution_count": 35,
   "id": "2c62685e-2cb7-4196-9a5f-cb743af3c6d5",
   "metadata": {},
   "outputs": [],
   "source": [
    "# predict_price.py\n",
    "\n",
    "import pickle\n",
    "from train_model import fetch_and_save_commodity_data, train_and_predict_from_csv\n",
    "\n",
    "def price_predict(commodity_name):\n",
    "\n",
    "    # Parameters for the commodity (example: West Bengal, Kolkata)\n",
    "    params = {\n",
    "        \"filters[State]\": \"West Bengal\",\n",
    "        \"filters[District]\": \"Kolkata\"\n",
    "    }\n",
    "    \n",
    "    filename = \"commodity_data.csv\"\n",
    "    \n",
    "    # Step 2: Fetch and save commodity data using the `fetch_and_save_commodity_data` function\n",
    "    fetch_and_save_commodity_data(params, commodity_name, filename)\n",
    "    \n",
    "    # Step 3: Train the model and make a prediction\n",
    "    try:\n",
    "        model, scaler, predicted_price = train_and_predict_from_csv(filename)\n",
    "        print(f\"Predicted Price for {commodity_name} after 6 months: {predicted_price:.2f} INR\")\n",
    "    except ValueError as e:\n",
    "        print(e)\n",
    "        exit()\n"
   ]
  },
  {
   "cell_type": "code",
   "execution_count": 36,
   "id": "6ec1df29-af4d-479c-984c-0229f710a76a",
   "metadata": {},
   "outputs": [
    {
     "name": "stdout",
     "output_type": "stream",
     "text": [
      "Saved 724 records to commodity_data.csv\n",
      "Predicted Price for Rice after 6 months: 3051.49 INR\n"
     ]
    }
   ],
   "source": [
    "price_predict(\"Rice\")"
   ]
  },
  {
   "cell_type": "code",
   "execution_count": 37,
   "id": "80e62161-1b84-4be6-9c58-f571b3217bf1",
   "metadata": {},
   "outputs": [
    {
     "name": "stdout",
     "output_type": "stream",
     "text": [
      "Saved 724 records to commodity_data.csv\n",
      "⚠️ Could not predict for jute: No records found for jute with parameters {'filters[State]': 'West Bengal', 'filters[District]': 'Kolkata'}.\n",
      "⚠️ Could not predict for coffee: No records found for coffee with parameters {'filters[State]': 'West Bengal', 'filters[District]': 'Kolkata'}.\n",
      "Saved 1080 records to commodity_data.csv\n",
      "⚠️ Could not predict for muskmelon: No records found for muskmelon with parameters {'filters[State]': 'West Bengal', 'filters[District]': 'Kolkata'}.\n"
     ]
    }
   ],
   "source": [
    "predicted_prices = {}  # empty dictionary to store results\n",
    "\n",
    "for crop in recommended_crops:\n",
    "    try:\n",
    "        # Fetch data and train model\n",
    "        fetch_and_save_commodity_data(params, commodity_name=crop, filename=\"commodity_data.csv\")\n",
    "        model, scaler, predicted_price = train_and_predict_from_csv(\"commodity_data.csv\")\n",
    "\n",
    "        # Add result to dictionary\n",
    "        predicted_prices[crop] = predicted_price\n",
    "\n",
    "    except ValueError as e:\n",
    "        print(f\"⚠️ Could not predict for {crop}: {e}\")\n",
    "        predicted_prices[crop] = 0  # or you can skip adding it"
   ]
  },
  {
   "cell_type": "code",
   "execution_count": 38,
   "id": "02338d9f-5664-4eba-bac1-b6aa6101ac86",
   "metadata": {},
   "outputs": [
    {
     "data": {
      "text/plain": [
       "{'rice': np.float32(3139.4016),\n",
       " 'jute': 0,\n",
       " 'coffee': 0,\n",
       " 'banana': np.float32(1258.1652),\n",
       " 'muskmelon': 0}"
      ]
     },
     "execution_count": 38,
     "metadata": {},
     "output_type": "execute_result"
    }
   ],
   "source": [
    "predicted_prices\n"
   ]
  },
  {
   "cell_type": "code",
   "execution_count": 43,
   "id": "02255d2c-7c91-48f0-ae40-65f6b0eeb2e8",
   "metadata": {},
   "outputs": [],
   "source": [
    "from predict_price import recommend_and_predict_prices\n"
   ]
  },
  {
   "cell_type": "code",
   "execution_count": 44,
   "id": "44175a8c-2453-4f12-b90c-2490f784b364",
   "metadata": {},
   "outputs": [
    {
     "ename": "TypeError",
     "evalue": "recommend_and_predict_prices() takes 1 positional argument but 2 were given",
     "output_type": "error",
     "traceback": [
      "\u001b[1;31m---------------------------------------------------------------------------\u001b[0m",
      "\u001b[1;31mTypeError\u001b[0m                                 Traceback (most recent call last)",
      "Cell \u001b[1;32mIn[44], line 6\u001b[0m\n\u001b[0;32m      1\u001b[0m test_params \u001b[38;5;241m=\u001b[39m [\u001b[38;5;241m90\u001b[39m, \u001b[38;5;241m42\u001b[39m, \u001b[38;5;241m43\u001b[39m, \u001b[38;5;241m20.87\u001b[39m, \u001b[38;5;241m82.00\u001b[39m, \u001b[38;5;241m6.5\u001b[39m, \u001b[38;5;241m200.0\u001b[39m]  \u001b[38;5;66;03m# Your soil and weather test sample\u001b[39;00m\n\u001b[0;32m      2\u001b[0m params \u001b[38;5;241m=\u001b[39m {\n\u001b[0;32m      3\u001b[0m         \u001b[38;5;124m\"\u001b[39m\u001b[38;5;124mfilters[State]\u001b[39m\u001b[38;5;124m\"\u001b[39m: \u001b[38;5;124m\"\u001b[39m\u001b[38;5;124mWest Bengal\u001b[39m\u001b[38;5;124m\"\u001b[39m,\n\u001b[0;32m      4\u001b[0m         \u001b[38;5;124m\"\u001b[39m\u001b[38;5;124mfilters[District]\u001b[39m\u001b[38;5;124m\"\u001b[39m: \u001b[38;5;124m\"\u001b[39m\u001b[38;5;124mKolkata\u001b[39m\u001b[38;5;124m\"\u001b[39m\n\u001b[0;32m      5\u001b[0m     }\n\u001b[1;32m----> 6\u001b[0m predicted_prices \u001b[38;5;241m=\u001b[39m \u001b[43mrecommend_and_predict_prices\u001b[49m\u001b[43m(\u001b[49m\u001b[43mtest_params\u001b[49m\u001b[43m,\u001b[49m\u001b[43mparams\u001b[49m\u001b[43m)\u001b[49m\n\u001b[0;32m      8\u001b[0m \u001b[38;5;28mprint\u001b[39m(\u001b[38;5;124m\"\u001b[39m\u001b[38;5;130;01m\\n\u001b[39;00m\u001b[38;5;124mFinal Predicted Prices for Top Crops:\u001b[39m\u001b[38;5;124m\"\u001b[39m)\n\u001b[0;32m      9\u001b[0m \u001b[38;5;28;01mfor\u001b[39;00m crop, price \u001b[38;5;129;01min\u001b[39;00m predicted_prices\u001b[38;5;241m.\u001b[39mitems():\n",
      "\u001b[1;31mTypeError\u001b[0m: recommend_and_predict_prices() takes 1 positional argument but 2 were given"
     ]
    }
   ],
   "source": [
    "test_params = [90, 42, 43, 20.87, 82.00, 6.5, 200.0]  # Your soil and weather test sample\n",
    "\n",
    "predicted_prices = recommend_and_predict_prices(test_params,params)\n",
    "\n",
    "print(\"\\nFinal Predicted Prices for Top Crops:\")\n",
    "for crop, price in predicted_prices.items():\n",
    "    print(f\"{crop}: {price:.2f} INR\")\n"
   ]
  },
  {
   "cell_type": "code",
   "execution_count": null,
   "id": "acdab76e-f110-48f5-8dc2-292264f62585",
   "metadata": {},
   "outputs": [],
   "source": []
  }
 ],
 "metadata": {
  "kernelspec": {
   "display_name": "Python 3 (ipykernel)",
   "language": "python",
   "name": "python3"
  },
  "language_info": {
   "codemirror_mode": {
    "name": "ipython",
    "version": 3
   },
   "file_extension": ".py",
   "mimetype": "text/x-python",
   "name": "python",
   "nbconvert_exporter": "python",
   "pygments_lexer": "ipython3",
   "version": "3.10.0"
  }
 },
 "nbformat": 4,
 "nbformat_minor": 5
}
